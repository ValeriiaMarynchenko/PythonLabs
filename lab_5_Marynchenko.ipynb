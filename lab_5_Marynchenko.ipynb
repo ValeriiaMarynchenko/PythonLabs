{
 "cells": [
  {
   "cell_type": "markdown",
   "metadata": {},
   "source": [
    "# Лабораторна робота №5. Списки\n",
    "### Valeriia Marynchenko\n"
   ]
  },
  {
   "cell_type": "markdown",
   "metadata": {},
   "source": [
    "## Створення та обробка списків"
   ]
  },
  {
   "cell_type": "markdown",
   "metadata": {},
   "source": [
    "### Завдання 1\n",
    "\n",
    "Жив-був капелюх. У капелюсі не було кролика, натомість був список із п'яти чисел: `1`, `2`, `3`, `4` та `5`.\n",
    "\n",
    "Ваше завдання:\n",
    "\n",
    "* напишіть рядок коду, що пропонує користувачеві замінити число всередині списку цілим числом, введеним користувачем (крок 1)\n",
    "* напишіть рядок коду, який видаляє останній елемент зі списку (крок 2)\n",
    "* напишіть рядок коду, який друкує довжину існуючого списку (крок 3).  \n",
    "\n",
    "Чи готові до цього випробування?"
   ]
  },
  {
   "cell_type": "code",
   "execution_count": null,
   "metadata": {},
   "outputs": [],
   "source": [
    "hat_list = [1, 2, 3, 4, 5]  # This is an existing list of numbers hidden in the hat.\n",
    "\n",
    "# Step 1: write a line of code that prompts the user\n",
    "# to replace the middle number with an integer number entered by the user.\n",
    "user_nunber = (int(input(\"Enter an ineger to replace the middle number: \")))\n",
    "hat_list[int(len(hat_list)//2)] = user_nunber\n",
    "print(hat_list)\n",
    "# Step 2: write a line of code that removes the last element from the list.\n",
    "del hat_list[-1]\n",
    "print(hat_list)\n",
    "# Step 3: write a line of code that prints the length of the existing list.\n",
    "print(len(hat_list))\n"
   ]
  },
  {
   "cell_type": "markdown",
   "metadata": {},
   "source": [
    "### Сортування списків "
   ]
  },
  {
   "cell_type": "markdown",
   "metadata": {},
   "source": [
    "Поряд з можливістю реалізувати будь-який алгоритм сортування, у python існують вбудовані методи для сортування списків."
   ]
  },
  {
   "cell_type": "code",
   "execution_count": null,
   "metadata": {},
   "outputs": [],
   "source": [
    "my_list = [1, 7, 23, 34, 0]\n",
    "my_list.sort()\n",
    "print(my_list)\n",
    "my_list.reverse()\n",
    "print(my_list)"
   ]
  },
  {
   "cell_type": "markdown",
   "metadata": {},
   "source": [
    "### Завдання 2\n",
    "\n",
    "Написати програму сортування списку у порядку зростання методом бульбашки."
   ]
  },
  {
   "cell_type": "code",
   "execution_count": null,
   "metadata": {},
   "outputs": [
    {
     "name": "stdout",
     "output_type": "stream",
     "text": [
      "[1, 4, 2, 6, 7, 3]\n",
      "[1, 4, 2, 6, 3, 7]\n",
      "[1, 2, 4, 6, 3, 7]\n",
      "[1, 2, 4, 3, 6, 7]\n",
      "[1, 2, 3, 4, 6, 7]\n"
     ]
    }
   ],
   "source": [
    "my_list = [1, 4, 6, 2, 7, 3]\n",
    "\n",
    "swapped = True\n",
    "\n",
    "while swapped:\n",
    "    for i in range(len(my_list) - 1):\n",
    "        if my_list[i] > my_list[i +1]:\n",
    "            swapped = True\n",
    "            my_list[i], my_list[i + 1] = my_list[i + 1], my_list[i]\n",
    "            \n",
    "            print(my_list)"
   ]
  },
  {
   "cell_type": "markdown",
   "metadata": {},
   "source": [
    "### Конструкції `in` та `not in`"
   ]
  },
  {
   "cell_type": "markdown",
   "metadata": {},
   "source": [
    "###  Завдання 3"
   ]
  },
  {
   "cell_type": "markdown",
   "metadata": {},
   "source": [
    "Уявіть список - не дуже довгий, не дуже складний, просто звичайний список, що містить деякі цілі числа. Деякі з цих чисел можуть повторюватись, і це ключ до розгадки. Ми не хочемо повторень. Ми хочемо, щоб їх видалили.\n",
    "\n",
    "Ваше завдання – написати програму, яка видаляє всі дублікати чисел зі списку. Ціль полягає в тому, щоб скласти список, в якому всі числа зустрічаються не більше одного разу.\n",
    "\n",
    "__Примітка:__ припустимо, що вихідний список жорстко закодований всередині коду - Вам не потрібно вводити його з клавіатури. Звичайно, Ви можете покращити код і додати частину, яка може вести діалог з користувачем і отримувати від неї всі дані.\n",
    "\n",
    "__Підказка:__ ми рекомендуємо Вам створити новий список як тимчасову робочу область - вам не потрібно оновлювати список in situ.\n",
    "\n",
    "Ми не надали тестових даних, оскільки було б надто просто. Натомість ви можете використовувати наш скелет."
   ]
  },
  {
   "cell_type": "code",
   "execution_count": null,
   "metadata": {},
   "outputs": [],
   "source": [
    "my_list = [1, 2, 4, 4, 1, 4, 2, 6, 2, 9]\n",
    "list_1 = []\n",
    "\n",
    "for i in range(len(my_list) - 1):\n",
    "    if i not in list_1:\n",
    "        list_1.append(i)\n",
    "print(my_list)\n",
    "print(\"The list with unique elements only:\")\n",
    "print(list_1)"
   ]
  },
  {
   "cell_type": "markdown",
   "metadata": {},
   "source": [
    "### Багатовимірні списки. Генератори списків "
   ]
  },
  {
   "cell_type": "markdown",
   "metadata": {},
   "source": [
    "### Приклад "
   ]
  },
  {
   "cell_type": "markdown",
   "metadata": {},
   "source": [
    "Уявіть, що Ви розробляєте програмне забезпечення автоматичної метеостанції. Прилад фіксує температуру повітря щогодини та робить це протягом місяця. Це дає Вам загалом 24 × 31 = 744 значення. Спробуємо скласти список, здатний зберігати ці результати."
   ]
  },
  {
   "cell_type": "code",
   "execution_count": 13,
   "metadata": {},
   "outputs": [],
   "source": [
    "temps = [[0.0 for h in range(24)] for d in range(31)]\n",
    "# print(temps)"
   ]
  },
  {
   "cell_type": "markdown",
   "metadata": {},
   "source": [
    "Визначимо середньомісячну полуденну температуру. Складіть усі 31 покази, записані опівдні, та поділіть отриману суму на 31. Ви можете припустити, що спочатку зберігається північна температура. Ось відповідний код:"
   ]
  },
  {
   "cell_type": "code",
   "execution_count": null,
   "metadata": {},
   "outputs": [],
   "source": [
    "temps = [[0.0 for h in range(24)] for d in range(31)]\n",
    "#\n",
    "# The matrix is magically updated here.\n",
    "#\n",
    "\n",
    "total = 0.0\n",
    "\n",
    "for day in temps:\n",
    "    total += day[11]\n",
    "\n",
    "average = total / 31\n",
    "\n",
    "print(\"Average temperature at noon:\", average)"
   ]
  },
  {
   "cell_type": "markdown",
   "metadata": {},
   "source": [
    "### Завдання 4"
   ]
  },
  {
   "cell_type": "markdown",
   "metadata": {},
   "source": [
    "Напишіть код, використоувуючи генератори списків, який створює матрицю 8х8 з пустими клітинками (пуста клітинка задається як \"_\") для задання шахівниці і розставте чотири тури по кутках шахівниці"
   ]
  },
  {
   "cell_type": "code",
   "execution_count": 21,
   "metadata": {},
   "outputs": [
    {
     "name": "stdout",
     "output_type": "stream",
     "text": [
      "I _ _ _ _ _ _ I\n",
      "_ _ _ _ _ _ _ _\n",
      "_ _ _ _ _ _ _ _\n",
      "_ _ _ _ _ _ _ _\n",
      "_ _ _ _ _ _ _ _\n",
      "_ _ _ _ _ _ _ _\n",
      "_ _ _ _ _ _ _ _\n",
      "I _ _ _ _ _ _ I\n"
     ]
    }
   ],
   "source": [
    "n = 8\n",
    "m = 8\n",
    "tura = \"I\"\n",
    "for i in range(n):\n",
    "    for j in range(n):\n",
    "        if i == 0:\n",
    "            if j == 0:\n",
    "                matrix[i][j] = tura\n",
    "            elif j == 7:\n",
    "                matrix[i][j] = tura\n",
    "            else:\n",
    "                matrix[i][j] = \"_\"\n",
    "        elif i == 7:\n",
    "            if j == 0:\n",
    "                matrix[i][j] = tura\n",
    "            elif j == 7:\n",
    "                matrix[i][j] = tura\n",
    "            else:\n",
    "                matrix[i][j] = \"_\"\n",
    "        else:\n",
    "            matrix[i][j] = \"_\"\n",
    "for row in matrix:\n",
    "    print(' '.join([str(elem) for elem in row]))"
   ]
  },
  {
   "attachments": {},
   "cell_type": "markdown",
   "metadata": {},
   "source": [
    "### Контрольні запитання\n",
    "\n",
    "1.Вивод наступного фрагмента -`['C']`\n",
    "\n",
    "`list_1 = [\"A\", \"B\", \"C\"]`\n",
    "\n",
    "`list_2 = list_1`\n",
    "\n",
    "`list_3 = list_2`\n",
    "\n",
    "`del list_1[0]`\n",
    "\n",
    "`del list_2[0]`\n",
    "\n",
    "`print(list_3)`\n",
    "\n",
    "\n",
    "2.Вивод наступного фрагмента - `['B', 'C']`\n",
    "\n",
    "`list_1 = [\"A\", \"B\", \"C\"]`\n",
    "\n",
    "`list_2 = list_1`\n",
    "\n",
    "`list_3 = list_2`\n",
    "\n",
    "`del list_1[0]`\n",
    "\n",
    "`del list_2`\n",
    "\n",
    "`print(list_3)`\n",
    "\n",
    "3.Вивод наступного фрагмента - `[]` \n",
    "\n",
    "`list_1 = [\"A\", \"B\", \"C\"]`\n",
    "\n",
    "`list_2 = list_1`\n",
    "\n",
    "`list_3 = list_2`\n",
    "\n",
    "`del list_1[0]`\n",
    "\n",
    "`del list_2[:]`\n",
    "\n",
    "`print(list_3)`\n",
    "\n",
    "4.Вивод наступного фрагмента - `['A', 'B', 'C']`\n",
    "\n",
    "`list_1 = [\"A\", \"B\", \"C\"]`\n",
    "\n",
    "`list_2 = list_1[:]`\n",
    "\n",
    "`list_3 = list_2[:]`\n",
    "\n",
    "`del list_1[0]`\n",
    "\n",
    "`del list_2[0]`\n",
    "\n",
    "`print(list_3)`\n"
   ]
  }
 ],
 "metadata": {
  "kernelspec": {
   "display_name": "Python 3 (ipykernel)",
   "language": "python",
   "name": "python3"
  },
  "language_info": {
   "codemirror_mode": {
    "name": "ipython",
    "version": 3
   },
   "file_extension": ".py",
   "mimetype": "text/x-python",
   "name": "python",
   "nbconvert_exporter": "python",
   "pygments_lexer": "ipython3",
   "version": "3.9.13"
  }
 },
 "nbformat": 4,
 "nbformat_minor": 4
}
