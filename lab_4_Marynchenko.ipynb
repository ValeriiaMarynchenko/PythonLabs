{
 "cells": [
  {
   "cell_type": "markdown",
   "metadata": {},
   "source": [
    "# \"Лабораторна робота №4. Логічні значення. Умовне виконання. Цикли\"\n",
    "### Valeriia Marynchenko, 09.04.2023"
   ]
  },
  {
   "cell_type": "markdown",
   "metadata": {},
   "source": [
    "__Мета:__ _освоїти роботу з логічними змінними, операторами розгалуження та операторами циклів_"
   ]
  },
  {
   "cell_type": "markdown",
   "metadata": {},
   "source": [
    "## Оператори порівняння"
   ]
  },
  {
   "cell_type": "markdown",
   "metadata": {},
   "source": [
    "### Завдання 1\n",
    "\n",
    "Використовуючи один з операторів порівняння в Python, напишіть просту дворядкову програму, яка приймає як вхідні дані параметр `n`, який є цілим числом, і друкує `False`, якщо `n` менше `100` і `True`, якщо `n` більше або дорівнює `100`.  \n",
    "Не створюйте жодних блоків `if`. Протестуйте свій код, використовуючи дані, надані нижче."
   ]
  },
  {
   "cell_type": "code",
   "execution_count": 8,
   "metadata": {},
   "outputs": [
    {
     "name": "stdout",
     "output_type": "stream",
     "text": [
      "Enter an integer: 1\n"
     ]
    },
    {
     "data": {
      "text/plain": [
       "False"
      ]
     },
     "execution_count": 8,
     "metadata": {},
     "output_type": "execute_result"
    }
   ],
   "source": [
    "n=int(input(\"Enter an integer: \"))\n",
    "n>=100"
   ]
  },
  {
   "cell_type": "markdown",
   "metadata": {},
   "source": [
    "__Тестові дані__  \n",
    "\n",
    "Приклад введення: `55`\n",
    "\n",
    "Очікуваний вивід: `False`\n",
    "\n",
    "\n",
    "Приклад введення: `100`\n",
    "\n",
    "Очікуваний вивід: `True`\n",
    "\n",
    "\n",
    "Приклад введення: `-5`\n",
    "\n",
    "Очікуваний вивід: `False`"
   ]
  },
  {
   "cell_type": "markdown",
   "metadata": {},
   "source": [
    "### Завдання 2\n",
    "\n",
    "Написати програму визначення найбільшого з двох дійсних чисел, використовуючи констуркцію `if-else`."
   ]
  },
  {
   "cell_type": "code",
   "execution_count": 13,
   "metadata": {},
   "outputs": [
    {
     "name": "stdout",
     "output_type": "stream",
     "text": [
      "Enter value for A: 2.6\n",
      "Enter value for B: 4532.3\n",
      "4532.3  more then  2.6\n"
     ]
    }
   ],
   "source": [
    "a=float(input(\"Enter value for A: \"))\n",
    "b=float(input(\"Enter value for B: \"))\n",
    "if a>b:\n",
    "    print(a, \" more then \", b)\n",
    "else:\n",
    "    print(b, \" more then \", a)"
   ]
  },
  {
   "cell_type": "markdown",
   "metadata": {},
   "source": [
    "###  Завдання 3"
   ]
  },
  {
   "cell_type": "markdown",
   "metadata": {},
   "source": [
    "### Конструкції `if-else` та `if-elif-else`"
   ]
  },
  {
   "cell_type": "markdown",
   "metadata": {},
   "source": [
    "Спатифіллум, більш відомий як лілія світу або біле вітрило, є одним з найпопулярніших кімнатних рослин, що фільтрують шкідливі токсини з повітря. Деякі з токсинів, які він нейтралізує, включають бензол, формальдегід та аміак.\n",
    "\n",
    "Уявіть, що ваша комп'ютерна програма любить ці рослини. Щоразу, коли вона отримує введення у вигляді слова Spathiphyllum, вона мимоволі вигукує в консоль наступний рядок: \"Spathiphyllum is the best plant ever!\"\n",
    "\n",
    "\n",
    "Напишіть програму, яка використовує концепцію умовного виконання, приймає рядок як вхідні дані та:\n",
    "\n",
    "* виводить на екран пропозицію \"Yes - Spathiphyllum is the best plant ever!\", якщо введений рядок - \"Spathiphyllum\" (верхній регістр)\n",
    "* друкує \"No, I want a big Spathiphyllum!\", якщо введений рядок - \"spathiphyllum\" (у нижньому регістрі)\n",
    "виводить \"Spathiphyllum! Not [input]!\" в іншому випадку.  \n",
    "__Примітка.__ [input] - це рядок, прийнятий як вхідний.\n",
    "\n",
    "Протестуйте свій код, використовуючи дані, які надано нижче."
   ]
  },
  {
   "cell_type": "markdown",
   "metadata": {},
   "source": [
    "__Тестові дані__"
   ]
  },
  {
   "cell_type": "markdown",
   "metadata": {},
   "source": [
    "Приклад введення: `spathiphyllum`\n",
    "\n",
    "Очікуваний вивід: `No, I want a big Spathiphyllum!`\n",
    "\n",
    "\n",
    "Приклад введення: `pelargonium`\n",
    "\n",
    "Очікуваний вивід: `Spathiphyllum! Not pelargonium!`\n",
    "\n",
    "\n",
    "Приклад введення: `Spathiphyllum`\n",
    "\n",
    "Очікуваний вивід: `Yes - Spathiphyllum is the best plant ever!`"
   ]
  },
  {
   "cell_type": "code",
   "execution_count": 23,
   "metadata": {},
   "outputs": [
    {
     "name": "stdout",
     "output_type": "stream",
     "text": [
      "I'd like you to type \"Spathiphyllum\":spathiphyllum\n",
      "No, I want a big Spathiphyllum!\n"
     ]
    }
   ],
   "source": [
    "a=str(input('I\\'d like you to type \"Spathiphyllum\":'))\n",
    "if a==\"Spathiphyllum\" :\n",
    "    print(\"Yes - Spathiphyllum is the best plant ever!\")\n",
    "elif a==\"spathiphyllum\" :\n",
    "    print(\"No, I want a big Spathiphyllum!\")\n",
    "else:\n",
    "    print(\"Spathiphyllum! Not \", a, \"!\")"
   ]
  },
  {
   "cell_type": "markdown",
   "metadata": {},
   "source": [
    "### Завдання 4"
   ]
  },
  {
   "cell_type": "markdown",
   "metadata": {},
   "source": [
    "Жила-була земля -- земля молока та меду, населена щасливими та заможними людьми. Звісно, люди платили податки – їх щастя мало межі. Найважливіший податок, так званий податок на доходи фізичних осіб (скорочено ПДФО), повинен був сплачуватись один раз на рік та оцінювався за таким правилом:\n",
    "\n",
    "* якщо дохід громадянина не перевищував 85528 талерів, податок становив 18% від доходу мінус 556 талерів і 2 центи (це було те, що вони називали податковими пільгами)  \n",
    "* якщо дохід був вищим за цю суму, податок становив 14 839 талерів 2 центи плюс 32% надлишку понад 85 528 талерів.  \n",
    "Ваше завдання – написати калькулятор податків.\n",
    "\n",
    "Він повинен приймати одне значення з плаваючою комою: дохід.\n",
    "Потім він має вивести розрахований податок, заокруглений до повних талерів. Є функція з ім'ям `round()`, яка виконуватиме заокруглення за вас -- ви знайдете її в скелетному коді нижче.  \n",
    "__Примітка:__ ця щаслива країна ніколи не повертала своїм громадянам грошей. Якщо розрахований податок був меншим за нуль, це означало б тільки повну відсутність податку (податок дорівнював нулю). Врахуйте це під час розрахунків.\n",
    "\n",
    "Подивіться на код нижче - він зчитує лише одне вхідне значення та виводить результат, тому вам потрібно завершити його деякими розумними обчисленнями.\n",
    "\n",
    "Протестуйте свій код, використовуючи тестові дані, наведені нижче."
   ]
  },
  {
   "cell_type": "code",
   "execution_count": 27,
   "metadata": {},
   "outputs": [
    {
     "name": "stdout",
     "output_type": "stream",
     "text": [
      "Enter the annual income: 100\n",
      "The tax is: 0 thalers\n"
     ]
    }
   ],
   "source": [
    "income = float(input(\"Enter the annual income: \"))\n",
    "\n",
    "if income <= 85528 :\n",
    "    tax = income*0.18 - 556.02\n",
    "else :\n",
    "    tax = 14839.02 + (income-85528)*0.32\n",
    "    \n",
    "if tax > 0:\n",
    "    tax = round(tax, 0)\n",
    "else :\n",
    "    tax = 0\n",
    "print(\"The tax is:\", tax, \"thalers\")"
   ]
  },
  {
   "cell_type": "markdown",
   "metadata": {},
   "source": [
    "__Тестові дані__\n",
    "\n",
    "Очикуваний вивод:\n",
    "\n",
    "Приклад введення: `10000`\n",
    "\n",
    "Очікуваний вивід: `The tax is: 1244.0 thalers`\n",
    "\n",
    "Приклад введення: `100000`\n",
    "\n",
    "Очікуваний вивід: `The tax is: 19470.0 thalers`\n",
    "\n",
    "Приклад введення: `1000`\n",
    "\n",
    "Очікуваний вивід `The tax is: 0.0 thalers`\n",
    "\n",
    "Приклад введення: `-100`\n",
    "\n",
    "Очікуваний вивід `The tax is: 0.0 thalers`"
   ]
  },
  {
   "cell_type": "markdown",
   "metadata": {},
   "source": [
    "### Завдання 5"
   ]
  },
  {
   "cell_type": "markdown",
   "metadata": {},
   "source": [
    "Як ви, напевно, знаєте, з деяких астрономічних причин роки можуть бути високосними або звичайними. Перші тривають 366 днів, а другі – 365 днів.\n",
    "\n",
    "З моменту введення григоріанського календаря (1582) для визначення року використовується наступне правило:\n",
    "\n",
    "* якщо номер року не ділиться на чотири, це звичайний рік;\n",
    "* в іншому випадку, якщо номер року не ділиться на 100, це високосний рік;\n",
    "* в іншому випадку, якщо номер року не ділиться на 400, це звичайний рік;\n",
    "* інакше це високосний рік.  \n",
    "\n",
    "Подивіться на код у редакторі -- він читає лише номер року і має бути доповнений інструкціями, що реалізують тест, який описаний вище.\n",
    "\n",
    "Код має виводити одне з двох можливих повідомлень: `Leap year` або `Common year`, залежно від введеного значення.\n",
    "\n",
    "Було б добре перевірити, чи належить введений рік до григоріанської ери, і вивести попередження інакше: `Not within the Gregorian calendar period.`  \n",
    "\n",
    "__Підказка:__ використовуйте оператори `!=` та `%`.\n",
    "\n",
    "Протестуйте свій код, використовуючи надані нами дані."
   ]
  },
  {
   "cell_type": "code",
   "execution_count": 44,
   "metadata": {},
   "outputs": [
    {
     "name": "stdout",
     "output_type": "stream",
     "text": [
      "Enter a year: 1500\n",
      "Not within the Gregorian calendar period.\n"
     ]
    }
   ],
   "source": [
    "year = int(input(\"Enter a year: \"))\n",
    "year1 = year%4\n",
    "year2 = year%100\n",
    "year3 = year%400\n",
    "if year>1582:\n",
    "    if year1 == 0 :\n",
    "        if year2 == 0 & year3 != 0:\n",
    "            print(\"Common year\")\n",
    "        else :\n",
    "            print(\"Leap year\")\n",
    "    else:\n",
    "        print(\"Common year\")\n",
    "else:\n",
    "    print(\"Not within the Gregorian calendar period.\")"
   ]
  },
  {
   "cell_type": "markdown",
   "metadata": {},
   "source": [
    "__Тестові дані__\n",
    "\n",
    "Приклад введення: `2000`\n",
    "\n",
    "Очікуваний вивід: `Leap year`\n",
    "\n",
    "Приклад введення: `2015`\n",
    "\n",
    "Очікуваний вивід: `Common year`\n",
    "\n",
    "Приклад введення: `1999`\n",
    "\n",
    "Очікуваний вивід: `Common year`\n",
    "\n",
    "Приклад введення: `1996`\n",
    "\n",
    "Очікуваний вивід: `Leap year`\n",
    "\n",
    "Приклад введення: `1580`\n",
    "\n",
    "Очікуваний вивід: `Not within the Gregorian calendar period`"
   ]
  },
  {
   "cell_type": "markdown",
   "metadata": {},
   "source": [
    "### Організація циклів за допомогою `while`"
   ]
  },
  {
   "cell_type": "markdown",
   "metadata": {},
   "source": [
    "__Приклад__\n",
    "\n",
    "Програма, яка читає послідовність чисел і підраховує, скільки чисел є парними, а скільки непарними. Програма завершується після введення нуля."
   ]
  },
  {
   "cell_type": "code",
   "execution_count": 10,
   "metadata": {},
   "outputs": [
    {
     "name": "stdin",
     "output_type": "stream",
     "text": [
      "Enter a number or type 0 to stop:  0\n"
     ]
    },
    {
     "name": "stdout",
     "output_type": "stream",
     "text": [
      "Odd numbers count: 0\n",
      "Even numbers count: 0\n"
     ]
    }
   ],
   "source": [
    "odd_numbers = 0\n",
    "even_numbers = 0\n",
    "\n",
    "# Read the first number.\n",
    "number = int(input(\"Enter a number or type 0 to stop: \"))\n",
    "\n",
    "# 0 terminates execution.\n",
    "while number != 0:\n",
    "    # Check if the number is odd.\n",
    "    if number % 2 == 1:\n",
    "        # Increase the odd_numbers counter.\n",
    "        odd_numbers += 1\n",
    "    else:\n",
    "        # Increase the even_numbers counter.\n",
    "        even_numbers += 1\n",
    "    # Read the next number.\n",
    "    number = int(input(\"Enter a number or type 0 to stop: \"))\n",
    "\n",
    "# Print results.\n",
    "print(\"Odd numbers count:\", odd_numbers)\n",
    "print(\"Even numbers count:\", even_numbers)"
   ]
  },
  {
   "cell_type": "markdown",
   "metadata": {},
   "source": [
    "Виход із циклу може бути оптімізовано за рахунок використання змінної `counter` наступним чином."
   ]
  },
  {
   "cell_type": "code",
   "execution_count": 12,
   "metadata": {},
   "outputs": [
    {
     "name": "stdout",
     "output_type": "stream",
     "text": [
      "Inside the loop. 5\n",
      "Inside the loop. 4\n",
      "Inside the loop. 3\n",
      "Inside the loop. 2\n",
      "Inside the loop. 1\n",
      "Outside the loop. 0\n"
     ]
    }
   ],
   "source": [
    "counter = 5\n",
    "while counter:\n",
    "    print(\"Inside the loop.\", counter)\n",
    "    counter -= 1\n",
    "print(\"Outside the loop.\", counter)"
   ]
  },
  {
   "cell_type": "markdown",
   "metadata": {},
   "source": [
    "### Завдання 6 "
   ]
  },
  {
   "cell_type": "markdown",
   "metadata": {},
   "source": [
    "Молодший чарівник вибрав таємне число. Він сховав його в змінну з ім'ям `secret_number`. Він хоче, щоб кожен, хто запускає його програму, грав у гру _Вгадай секретний номер_ і вгадав, яке число він вибрав для них. Ті, хто не вгадає число, назавжди застрянуть у нескінченній петлі! На жаль, він не знає, як завершити код.\n",
    "\n",
    "Ваше завдання допомогти фокуснику доповнити код у редакторі таким чином, щоб код:\n",
    "\n",
    "* попросив користувача ввести ціле число;\n",
    "* використовувавши цикл `while`;\n",
    "* перевірити, чи включає введене користувачем число з числом, вибраним фокусником. Якщо число, обране користувачем, відрізняється від секретного числа чарівника, користувач повинен побачити повідомлення `\"Ха-ха! Ви застрягли у моїй петлі!\"` і отримати запит на повторне введення числа. Якщо число, введене користувачем, співпадає з числом, вибраним фокусником, число має бути надруковане на екрані, і фокусник повинен вимовити наступне слово: `«Молодець, магле! Тепер ти вільний»`. \n",
    "\n",
    "Чарівник розраховує на Вас! Не розчаровуйте його.\n",
    "\n",
    "\n",
    "ДОДАТКОВА ІНФОРМАЦІЯ\n",
    "\n",
    "До речі, подивитесь на функцію `print()`. Те, як ми це використовували тут, називається багаторядковим друком. Ви можете використовувати три кавички для друку рядка в кількох рядках, щоб текст був легшим для читання, або для створення спеціального текстового дизайну. Поекспериментуйте з цим."
   ]
  },
  {
   "cell_type": "code",
   "execution_count": 4,
   "metadata": {},
   "outputs": [
    {
     "name": "stdout",
     "output_type": "stream",
     "text": [
      "\n",
      "+================================+\n",
      "| Welcome to my game, muggle!    |\n",
      "| Enter an integer number        |\n",
      "| and guess what number I've     |\n",
      "| picked for you.                |\n",
      "| So, what is the secret number? |\n",
      "+================================+\n",
      "\n",
      "I think it is5\n",
      "Ха-ха! Ви застрягли у моїй петлі!\n",
      "I think it is01\n",
      "Ха-ха! Ви застрягли у моїй петлі!\n",
      "I think it is254\n",
      "Ха-ха! Ви застрягли у моїй петлі!\n",
      "I think it is23\n",
      "Ха-ха! Ви застрягли у моїй петлі!\n",
      "I think it is245\n",
      "Ха-ха! Ви застрягли у моїй петлі!\n",
      "I think it is777\n",
      "Молодець, магле! Тепер ти вільний\n"
     ]
    }
   ],
   "source": [
    "secret_number = 777\n",
    "\n",
    "print(\n",
    "\"\"\"\n",
    "+================================+\n",
    "| Welcome to my game, muggle!    |\n",
    "| Enter an integer number        |\n",
    "| and guess what number I've     |\n",
    "| picked for you.                |\n",
    "| So, what is the secret number? |\n",
    "+================================+\n",
    "\"\"\")\n",
    "while secret_number != int(input(\"I think it is\")):\n",
    "    print(\"Ха-ха! Ви застрягли у моїй петлі!\")\n",
    "print(\"Молодець, магле! Тепер ти вільний\")"
   ]
  },
  {
   "cell_type": "markdown",
   "metadata": {},
   "source": [
    "### Організація циклів за допомогою `for` "
   ]
  },
  {
   "cell_type": "markdown",
   "metadata": {},
   "source": [
    "### Завдання 7 "
   ]
  },
  {
   "cell_type": "markdown",
   "metadata": {},
   "source": [
    "Ви знаєте, що таке Міссісіпі? Ну, це назва одного зі штатів та річок у Сполучених Штатах. Довжина річки Міссісіпі становить близько 2340 миль, що робить її другою за довжиною річкою у Сполучених Штатах (найдовшою з них є річка Міссурі). Це так багато, що одній краплі води потрібно 90 днів, щоб пройти весь її шлях!\n",
    "\n",
    "Слово Міссісіпі також використовується для дещо іншої мети: для рахунку Міссісіпі.\n",
    "\n",
    "Якщо ви не знайомі з цією фразою, ми можемо пояснити вам, що вона означає: вона використовується для підрахунку секунд.\n",
    "\n",
    "Ідея полягає в тому, що додавання слова Міссісіпі до числа при підрахунку секунд вголос змушує рахунок бути хронологічно точніше, і, отже, вимова \"один Міссісіпі, два Міссісіпі, три Міссісіпі\" займе приблизно три секунди! Рахунок Міссісіпі часто використовують діти, які грають у хованки, щоб переконатися, що той, хто шукає чесно, підраховує час.\n",
    "\n",
    "Ваше завдання тут дуже просте: напишіть програму, яка використовує цикл `for` для «рахунку Міссісіпі» до п'яти. Порахувавши до п'яти, програма повинна вивести на екран фінальне повідомлення `\"Ready or not, here I come!\"`\n",
    "\n",
    "Використовуйте код, який ми надали у редакторі.\n",
    "\n",
    "ДОДАТКОВА ІНФОРМАЦІЯ\n",
    "\n",
    "Зверніть увагу, що код редактора містить два елементи, які можуть бути наразі вам не зовсім зрозумілі: оператор `import time` і метод `sleep()`. Ми незабаром про них поговоримо.\n",
    "\n",
    "Наразі ми просто хотіли, щоб ви знали, що ми імпортували модуль `time` і використовували метод `sleep()` для припинення виконання кожної наступної функції `print()` всередині циклу `for` на одну секунду, щоб повідомлення, яке виводиться на консоль, було схоже на фактичний підрахунок."
   ]
  },
  {
   "cell_type": "code",
   "execution_count": 13,
   "metadata": {},
   "outputs": [
    {
     "name": "stdout",
     "output_type": "stream",
     "text": [
      "1 Mississippi\n",
      "2 Mississippi\n",
      "3 Mississippi\n",
      "4 Mississippi\n",
      "5 Mississippi\n",
      "6 Mississippi\n",
      "7 Mississippi\n",
      "8 Mississippi\n",
      "9 Mississippi\n",
      "10 Mississippi\n",
      "Ready or not, here I come!\n"
     ]
    }
   ],
   "source": [
    "import time\n",
    "\n",
    "counter = 1\n",
    "for counter in range(10):\n",
    "    counter += 1\n",
    "    time.sleep(1)\n",
    "    print(counter, \"Mississippi\")\n",
    "print(\"Ready or not, here I come!\")"
   ]
  },
  {
   "cell_type": "markdown",
   "metadata": {},
   "source": [
    "_Очикуваний вивід_\n",
    "\n",
    "`1 Mississippi`  \n",
    "`2 Mississippi`  \n",
    "`3 Mississippi`  \n",
    "`4 Mississippi`  \n",
    "`5 Mississippi`"
   ]
  },
  {
   "cell_type": "markdown",
   "metadata": {},
   "source": [
    "### Оператори `break` і `continue` "
   ]
  },
  {
   "cell_type": "markdown",
   "metadata": {},
   "source": [
    "### Завдання 8 "
   ]
  },
  {
   "cell_type": "markdown",
   "metadata": {},
   "source": [
    "Оператор `break` використовується для завершення/виходу з циклу.\n",
    "\n",
    "Розробте програму, яка використовує цикл `while` і постійно просить користувача ввести слово, якщо користувач не вводить `\"chupacabra\"` як секретне вихідне слово, і в цьому випадку повідомлення `\"You've successfully left the loop.\"` має бути виведений на екран, а цикл має завершитись.\n",
    "\n",
    "Не друкуйте жодне із введених користувачем слів. Використовуйте концепцію умовного виконання та інструкцію `break`."
   ]
  },
  {
   "cell_type": "code",
   "execution_count": 6,
   "metadata": {},
   "outputs": [
    {
     "name": "stdout",
     "output_type": "stream",
     "text": [
      "Enter a word: yu\n",
      "You've successfully left the loop.!\n"
     ]
    }
   ],
   "source": [
    "secret_word=\"chupacabra\"\n",
    "while 1==1 :\n",
    "    if secret_word != str(input(\"Enter a word: \")):\n",
    "        print(\"You've successfully left the loop.!\")\n",
    "    else: \n",
    "        break\n",
    "    break"
   ]
  },
  {
   "cell_type": "markdown",
   "metadata": {},
   "source": [
    "### Завдання 9"
   ]
  },
  {
   "cell_type": "markdown",
   "metadata": {},
   "source": [
    "Оператор `continue` використовується для пропуску поточного блоку та переходу до наступної ітерації без виконання операторів усередині циклу.\n",
    "\n",
    "Його можна використовувати з циклами `while` та `for`.\n",
    "\n",
    "Ваше завдання тут особливе: Ви повинні створити пожирача голосних! Напишіть програму, яка використовує:\n",
    "\n",
    "* цикл `for`;\n",
    "* концепцію умовного виконання (`if-elif-else`)\n",
    "* оператор `continue`.  \n",
    "\n",
    "Ваша програма повинна:\n",
    "\n",
    "* попросити користувача ввести слово;\n",
    "* використовувати `user_word = user_word.upper()`, щоб перетворити слово, введене користувачем, у верхній регістр; ми  поговоримо про рядкові методи та метод `upper()` у наступних лекціях;\n",
    "* використовуйте умовне виконання та оператор `continue`, щоб \"з'їсти\" наступні голосні `A`, `E`, `I`, `O`, `U` у введеному слові;\n",
    "* виведіть на екран нез'їдені літери, кожну в окремому рядку.\n",
    "\n",
    "Протестуйте свою програму з даними, які надані нижче."
   ]
  },
  {
   "cell_type": "code",
   "execution_count": 11,
   "metadata": {},
   "outputs": [
    {
     "name": "stdout",
     "output_type": "stream",
     "text": [
      "Enter a word: Gregory\n",
      "G\n",
      "R\n",
      "G\n",
      "R\n",
      "Y\n"
     ]
    }
   ],
   "source": [
    "user_word = str(input(\"Enter a word: \"))\n",
    "user_word = user_word.upper()\n",
    "counter = 0\n",
    "aeiou=(\"A E I O U\")\n",
    "for counter in range(len(user_word)):\n",
    "    if user_word[counter] not in aeiou:#aeiou :\n",
    "        print(user_word[counter])\n",
    "        counter +=1\n",
    "    else:\n",
    "        counter +=1"
   ]
  },
  {
   "cell_type": "markdown",
   "metadata": {},
   "source": [
    "__Тестові дані__\n",
    "\n",
    "Зразкове введення: `Gregory`\n",
    "\n",
    "Очікуваний вивід:\n",
    "\n",
    "`G`   \n",
    "`R`   \n",
    "`G`   \n",
    "`R`   \n",
    "`Y`   \n",
    "\n",
    "Зразкове введення: `abstemious`\n",
    "\n",
    "Очікуваний вивід:\n",
    "\n",
    "`B`  \n",
    "`S`  \n",
    "`T`  \n",
    "`M`  \n",
    "`S`  \n",
    "\n",
    "Зразкове введення: `IOUEA`\n",
    "\n",
    "Очікуваний вивід:\n",
    "\n",
    "` `"
   ]
  },
  {
   "cell_type": "markdown",
   "metadata": {},
   "source": [
    "### Завдання 10"
   ]
  },
  {
   "cell_type": "markdown",
   "metadata": {},
   "source": [
    "Ваше завдання тут ще особливіше, ніж раніше: Ви повинні переробити (потворного) пожирача голосних із попереднього завдання і створити кращого, покращеного (красивого) пожирача голосних! Напишіть програму, яка використовує:\n",
    "\n",
    "* цикл `for`;\n",
    "* концепцію умовного виконання (`if-elif-else`)\n",
    "* оператор `continue`.\n",
    "\n",
    "Ваша програма повинна:\n",
    "\n",
    "* попросити користувача ввести слово;\n",
    "* використовувати `user_word = user_word.upper()`, щоб перетворити слово, введене користувачем, у верхній регістр; * використовувати умовне виконання та оператор `continue` , щоб \"з'їсти\" наступні голосні `A, E, I, O, U` від введеного слова;\n",
    "* присвоїти нез'їдені літери змінної `word_without_vowels` та вивести змінну на екран.\n",
    "\n",
    "Подивіться код нижче. Ми створили `word_without_vowels` і надали йому порожній рядок. Використовуйте операцію конкатенації, щоб попросити Python об'єднати вибрані літери у довший рядок у наступних ітераціях циклу та призначити її змінною `word_without_vowels`.\n",
    "\n",
    "Протестуйте свою програму з даними, які ми надали."
   ]
  },
  {
   "cell_type": "code",
   "execution_count": 10,
   "metadata": {},
   "outputs": [
    {
     "name": "stdout",
     "output_type": "stream",
     "text": [
      "Enter a word: Gregory\n",
      "GRGRY"
     ]
    }
   ],
   "source": [
    "word_without_vowels = \"\"\n",
    "\n",
    "user_word = str(input(\"Enter a word: \"))\n",
    "user_word = user_word.upper()\n",
    "counter = 0\n",
    "aeiou=(\"A E I O U\")\n",
    "for counter in range(len(user_word)):\n",
    "    if user_word[counter] not in aeiou:\n",
    "        print(user_word[counter], end=\"\")\n",
    "        counter +=1\n",
    "    else:\n",
    "        counter +=1"
   ]
  },
  {
   "cell_type": "markdown",
   "metadata": {},
   "source": [
    "__Тестові дані__\n",
    "\n",
    "Зразкове введення:` Gregory`\n",
    "\n",
    "Очікуваний вивід:\n",
    "\n",
    "`GRGRY`\n",
    "\n",
    "Зразкове введення: abstemious\n",
    "\n",
    "Очікуваний вивід:\n",
    "\n",
    "`BSTMS`\n",
    "\n",
    "Зразкове введення: `IOUEA`\n",
    "\n",
    "Очікуваний вивід:\n",
    "\n",
    "` `"
   ]
  },
  {
   "cell_type": "markdown",
   "metadata": {},
   "source": [
    "### Завдання 11"
   ]
  },
  {
   "cell_type": "markdown",
   "metadata": {},
   "source": [
    "Послухайте цю історію: хлопчик та його батько, програміст, грають із дерев'яними кубиками. Вони будують піраміду (рис. 1).\n",
    "\n",
    "Їхня піраміда трохи дивна, тому що насправді це стіна у формі піраміди -- вона плоска. Піраміда складається за одним простим принципом: кожен нижній шар містить на один блок більше, ніж шар вище.\n",
    "\n",
    "На рис. 1 показано правило, що використовується будівельниками:"
   ]
  },
  {
   "attachments": {
    "a41b02e3-9575-4e30-949d-2a3d3a0cdd64.png": {
     "image/png": "[encoded data removed]"
    }
   },
   "cell_type": "markdown",
   "metadata": {},
   "source": [
    "![Рис. 1](attachment:a41b02e3-9575-4e30-949d-2a3d3a0cdd64.png)"
   ]
  },
  {
   "cell_type": "markdown",
   "metadata": {},
   "source": [
    "Ваше завдання – написати програму, яка зчитує кількість блоків, що є у будівельників, та виводить висоту піраміди, яку можна побудувати з цих блоків.\n",
    "\n",
    "__Примітка:__ висота вимірюється кількістю повністю завершених шарів –- якщо будівельники не мають достатньої кількості блоків та не можуть завершити наступний шар, вони негайно закінчують свою роботу.\n",
    "\n",
    "Протестуйте свій код, використовуючи надані нами дані."
   ]
  },
  {
   "cell_type": "code",
   "execution_count": 58,
   "metadata": {},
   "outputs": [
    {
     "name": "stdout",
     "output_type": "stream",
     "text": [
      "Enter a number of blocks: 2\n",
      "1\n"
     ]
    }
   ],
   "source": [
    "number_of_blocks=int(input(\"Enter a number of blocks: \"))\n",
    "a=0#hight\n",
    "b=0#using bloks\n",
    "while number_of_blocks>=b:\n",
    "    a+=1\n",
    "    b=b+a\n",
    "print(a-1)"
   ]
  },
  {
   "cell_type": "markdown",
   "metadata": {},
   "source": [
    "__Тестові дані__\n",
    "\n",
    "Зразкове введення: `6`\n",
    "\n",
    "Очікуваний вивід: `The height of the pyramid: 3`\n",
    "\n",
    "Зразкове введення: `20`\n",
    "\n",
    "Очікуваний вивід: `The height of the pyramid: 5`\n",
    "\n",
    "Зразкове введення: `1000`\n",
    "\n",
    "Очікуваний вивід: `The height of the pyramid: 44`\n",
    "\n",
    "Зразкове введення: `2`\n",
    "\n",
    "Очікуваний вивід: `The height of the pyramid: 1`"
   ]
  },
  {
   "cell_type": "markdown",
   "metadata": {},
   "source": [
    "### Завдання 12"
   ]
  },
  {
   "cell_type": "markdown",
   "metadata": {},
   "source": [
    "1937 року німецький математик Лотар Коллатц сформулював інтригуючу гіпотезу (вона досі не доведена), яку можна описати так:\n",
    "\n",
    "* візьміть будь-яке невід'ємне та ненульове ціле число та назвіть його `c0`;\n",
    "* якщо воно парне, обчисліть нове `c0` як `c0÷2`;\n",
    "* в іншому випадку, якщо воно непарне, висиліть нове `c0 `як `3 × c0 + 1`;\n",
    "* якщо `c0 ≠ 1`, поверніться до пункту 2.\n",
    "\n",
    "Гіпотеза свідчить, що незалежно від початкового значення `c0` воно завжди дорівнюватиме `1`.\n",
    "\n",
    "Звичайно, використання комп'ютера для доведення гіпотези для будь-якого натурального числа -- надзвичайно складне завдання (для цього може знадобитися навіть штучний інтелект), але ви можете використовувати Python для перевірки деяких окремих чисел. Можливо, Ви навіть знайдете те, що спростує гіпотезу.\n",
    "\n",
    "\n",
    "Напишіть програму, яка зчитує одне натуральне число і виконує вказані вище кроки до тих пір, поки `c0` залишається відмінним від `1`. Ми також хочемо, щоб ви підрахували кроки, необхідні для досягнення мети. Ваш код також повинен виводити усі проміжні значення `c0`.\n",
    "\n",
    "Підказка: найважливіша частина проблеми –- як перетворити ідею Коллатца на цикл `while` – це ключ до успіху.\n",
    "\n",
    "Протестуйте свій код, використовуючи надані нами дані."
   ]
  },
  {
   "cell_type": "code",
   "execution_count": 9,
   "metadata": {},
   "outputs": [
    {
     "name": "stdout",
     "output_type": "stream",
     "text": [
      "Enter a positive integer: 16\n",
      "8.0\n",
      "4.0\n",
      "2.0\n",
      "1.0\n",
      "steps 4\n"
     ]
    }
   ],
   "source": [
    "c0=int(input(\"Enter a positive integer: \"))\n",
    "counter=0\n",
    "while c0!=1:\n",
    "    if c0%2==0:\n",
    "        c0=c0/2\n",
    "        print(c0)\n",
    "        counter+=1\n",
    "    else:\n",
    "        c0=3*c0+1\n",
    "        print(c0)\n",
    "        counter+=1\n",
    "print(\"steps\", counter)"
   ]
  },
  {
   "cell_type": "markdown",
   "metadata": {},
   "source": [
    "__Тестові дані__\n",
    "\n",
    "Приклад введення: `15`\n",
    "\n",
    "Очікуваний вивід:\n",
    "\n",
    "`46`  \n",
    "`23`  \n",
    "`70`  \n",
    "`35`  \n",
    "`106`  \n",
    "`53`  \n",
    "`160`  \n",
    "`80`  \n",
    "`40`  \n",
    "`20`  \n",
    "`10`  \n",
    "`5`  \n",
    "`16`  \n",
    "`8`  \n",
    "`4`  \n",
    "`2`  \n",
    "`1`  \n",
    "`steps = 17`\n",
    "\n",
    "Приклад введення: `16`\n",
    "\n",
    "Очикуваний вивід: \n",
    "\n",
    "`8`  \n",
    "`4`  \n",
    "`2`  \n",
    "`1`  \n",
    "`steps = 4`\n",
    "\n",
    "Приклад введення: `1023`\n",
    "\n",
    "Очікуваний вивід:\n",
    "\n",
    "`3070`  \n",
    "`1535`  \n",
    "`4606`  \n",
    "`2303`  \n",
    "`6910`  \n",
    "`3455`  \n",
    "`10366`  \n",
    "`5183`  \n",
    "`15550`  \n",
    "`7775`  \n",
    "`23326`  \n",
    "`11663`  \n",
    "`34990`  \n",
    "`17495`  \n",
    "`52486`  \n",
    "`26243`  \n",
    "`78730`  \n",
    "`39365`  \n",
    "`118096`  \n",
    "`59048`  \n",
    "`29524`  \n",
    "`14762`  \n",
    "`7381`  \n",
    "`22144`  \n",
    "`11072`  \n",
    "`5536`  \n",
    "`2768`  \n",
    "`1384`  \n",
    "`692`  \n",
    "`346`  \n",
    "`173`  \n",
    "`520`  \n",
    "`260`  \n",
    "`130`  \n",
    "`65`  \n",
    "`196`  \n",
    "`98`  \n",
    "`49`  \n",
    "`148`  \n",
    "`74`  \n",
    "`37`  \n",
    "`112`  \n",
    "`56`  \n",
    "`28`  \n",
    "`14`  \n",
    "`7`  \n",
    "`22`  \n",
    "`11`  \n",
    "`34`  \n",
    "`17`  \n",
    "`52`  \n",
    "`26`  \n",
    "`13`  \n",
    "`40`  \n",
    "`20`  \n",
    "`10`  \n",
    "`5` \n",
    "`16`  \n",
    "`8`  \n",
    "`4`  \n",
    "`2`  \n",
    "`1`  \n",
    "`steps = 62`"
   ]
  },
  {
   "attachments": {},
   "cell_type": "markdown",
   "metadata": {},
   "source": [
    "### Контрольні запитання\n",
    "\n",
    "1.Вивод наступного фрагмента\n",
    "\n",
    "`x = 5\n",
    "y = 10\n",
    "z = 8\n",
    "print(x > y)\n",
    "print(y > z)`\n",
    "\n",
    "`False`\n",
    "\n",
    "`True`\n",
    "\n",
    "2.Вивод наступного фрагмента\n",
    "\n",
    "`x, y, z = 5, 10, 8\n",
    "print(x > z)\n",
    "print((y-5)==x)`\n",
    "\n",
    "`False`\n",
    "\n",
    "`True`\n",
    "\n",
    "3.Вивод наступного фрагмента\n",
    "\n",
    "`x, y, z = 5, 10, 8\n",
    "x, y, z = z, y, x\n",
    "print(x > z)\n",
    "print((y-5)==x)`\n",
    "\n",
    "`True`\n",
    "\n",
    "`False`"
   ]
  }
 ],
 "metadata": {
  "kernelspec": {
   "display_name": "Python 3 (ipykernel)",
   "language": "python",
   "name": "python3"
  },
  "language_info": {
   "codemirror_mode": {
    "name": "ipython",
    "version": 3
   },
   "file_extension": ".py",
   "mimetype": "text/x-python",
   "name": "python",
   "nbconvert_exporter": "python",
   "pygments_lexer": "ipython3",
   "version": "3.9.13"
  }
 },
 "nbformat": 4,
 "nbformat_minor": 4
}
