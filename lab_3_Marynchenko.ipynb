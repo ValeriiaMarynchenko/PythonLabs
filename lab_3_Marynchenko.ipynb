{
 "cells": [
  {
   "cell_type": "markdown",
   "metadata": {},
   "source": [
    "__Мета:__ _освоїти роботу зі змінними та операції вводу і виводу_"
   ]
  },
  {
   "cell_type": "markdown",
   "metadata": {},
   "source": [
    "## Робота зі змінними"
   ]
  },
  {
   "cell_type": "markdown",
   "metadata": {},
   "source": [
    "### Завдання № 1\n",
    "\n",
    "Написати програму, яка обчислює значення функції Гауса: \n",
    "$$f(x) = \\frac{1}{\\sigma \\sqrt{2 \\pi}} e^{-\\frac{(x-\\mu)^2}{2\\sigma^2}}$$"
   ]
  },
  {
   "cell_type": "code",
   "execution_count": 9,
   "metadata": {},
   "outputs": [
    {
     "name": "stdout",
     "output_type": "stream",
     "text": [
      "Enter Sigma value: 1\n",
      "Enter X value: 2\n",
      "Enter M value: 3\n",
      "f(x) = 3.408150231430534\n"
     ]
    }
   ],
   "source": [
    "sigma=float(input(\"Enter Sigma value: \"))\n",
    "e=2.72\n",
    "x=int(input(\"Enter X value: \"))\n",
    "mu=int(input(\"Enter M value: \"))\n",
    "pi=3.14\n",
    "f=(1/sigma*((2*pi)**(1/2)))*((e)**((x-mu)**2)/(2*(sigma**2)))\n",
    "print('f(x) =', f)"
   ]
  },
  {
   "cell_type": "markdown",
   "metadata": {},
   "source": [
    "###  Завдання № 2"
   ]
  },
  {
   "cell_type": "markdown",
   "metadata": {},
   "source": [
    "Ось невелика розповідь:\n",
    "\n",
    "Якось Джон (John) мав три яблука, Мері (Mary) мала п'ять яблук, а Адам (Adam) мав шість яблук. Усі вони були дуже щасливі та жили довго. Кінець історії.\n",
    "\n",
    "Ваше завдання полягає в тому, щоб\n",
    "\n",
    "* створіть змінні: `john`, `mary`, і `adam`;\n",
    "\n",
    "* надайте значення змінним. Значення повинні дорівнювати кількості фруктів, якими володіють Джон, Мері, і Адам відповідно;\n",
    "\n",
    "* зберігши числа в змінних, виведіть змінні в один рядок і розділіть їх комами;\n",
    "\n",
    "* тепер створіть нову змінну з ім'ям `totalApple`` рівну сумі трьох попередніх змінних;\n",
    "\n",
    "* вивести значення, збережене в `totalapples`, в консоль;\n",
    "\n",
    "* надрукувати рядок та ціле число разом в одному рядку, наприклад, \"Загальна кількість яблук:\" та `total_apples`|."
   ]
  },
  {
   "cell_type": "code",
   "execution_count": 10,
   "metadata": {},
   "outputs": [
    {
     "name": "stdout",
     "output_type": "stream",
     "text": [
      "3,5,6\n",
      "14\n",
      "Загальна кількість яблук: 14\n"
     ]
    }
   ],
   "source": [
    "john=3\n",
    "mary=5\n",
    "adam=6\n",
    "print(john, mary, adam, sep=\",\")\n",
    "totalApple=john+mary+adam\n",
    "print(totalApple)\n",
    "print(\"Загальна кількість яблук:\", totalApple)"
   ]
  },
  {
   "cell_type": "markdown",
   "metadata": {},
   "source": [
    "### Завдання № 3"
   ]
  },
  {
   "cell_type": "markdown",
   "metadata": {},
   "source": [
    "Милі та кілометри – це одиниці довжини або відстані.\n",
    "\n",
    "Враховуючи, що 1 миля дорівнює приблизно 1.61 кілометрам, заповніть програму в редакторі, щоб вона перетворила:\n",
    "\n",
    "* милі у кілометри;\n",
    "\n",
    "* кілометри на милі.\n",
    "\n",
    "Не змінюйте нічого в існуючому коді. Напишіть свій код у місцях, вказаних ###. Протестуйте вашу програму з даними, які надано у вихідному коді.\n",
    "\n",
    "Зверніть особливу увагу на те, що відбувається всередині функції `print()`. Проаналізуйте, як ми надаємо кілька аргументів функції та як ми виводимо очікувані дані.\n",
    "\n",
    "Зауважте, що деякі аргументи всередині функції `print()` є рядками (наприклад, `\"miles is\"`, тоді як деякі інші є змінними (наприклад, `miles`)."
   ]
  },
  {
   "cell_type": "code",
   "execution_count": 11,
   "metadata": {},
   "outputs": [
    {
     "name": "stdout",
     "output_type": "stream",
     "text": [
      "7.38 miles is 11.88 kilometers\n",
      "12.25 kilometers is 7.61 miles\n"
     ]
    }
   ],
   "source": [
    "kilometers = 12.25\n",
    "miles = 7.38\n",
    "\n",
    "miles_to_kilometers = miles*1.61\n",
    "kilometers_to_miles = kilometers/1.61\n",
    "\n",
    "print(miles, \"miles is\", round(miles_to_kilometers, 2), \"kilometers\")\n",
    "print(kilometers, \"kilometers is\", round(kilometers_to_miles, 2), \"miles\")"
   ]
  },
  {
   "cell_type": "markdown",
   "metadata": {},
   "source": [
    "### Завдання № 4"
   ]
  },
  {
   "cell_type": "markdown",
   "metadata": {},
   "source": [
    "Подивіться код у редакторі: він читає \"плаваюче\" значення, поміщає його у змінну з ім'ям `x`, і друкує значення змінної з ім'ям `y`. Ваше завдання - завершити код, щоб оцінити такий вираз:\n",
    "\n",
    "$$3x^3 - 2x^2 + 3^x - 1$$\n",
    "\n",
    "Результат має бути присвоєний `y`."
   ]
  },
  {
   "cell_type": "code",
   "execution_count": 6,
   "metadata": {},
   "outputs": [
    {
     "name": "stdout",
     "output_type": "stream",
     "text": [
      "Enter X value: 1\n",
      "The ansver:  3\n"
     ]
    }
   ],
   "source": [
    "x = int(input(\"Enter X value: \"))\n",
    "y = 3*(x**3)-2*(x**2)+3**x-1\n",
    "print(\"The ansver: \", y)"
   ]
  },
  {
   "cell_type": "markdown",
   "metadata": {},
   "source": [
    "### Завдання № 5 "
   ]
  },
  {
   "cell_type": "markdown",
   "metadata": {},
   "source": [
    "Код редактора містить коментарі. Спробуйте покращити його: додайте або видаліть коментарі там, де ви вважаєте це доречним (так, іноді видалення коментаря може зробити код більш читабельним) і змініть імена змінних там, де, на вашу думку, це покращить розуміння коду."
   ]
  },
  {
   "cell_type": "code",
   "execution_count": 15,
   "metadata": {},
   "outputs": [
    {
     "name": "stdout",
     "output_type": "stream",
     "text": [
      "Hours:  2\n",
      "Seconds in Hours:  7200\n"
     ]
    }
   ],
   "source": [
    "# this program computes the number of seconds in a given number of hours\n",
    "\n",
    "hours = 2 #number of hours\n",
    "seconds = 3600 # number of seconds in 1 hour\n",
    "\n",
    "print(\"Hours: \", hours) #printing the number of hours\n",
    "print(\"Seconds in Hours: \", hours * seconds) # printing the number of seconds in a given number of hours"
   ]
  },
  {
   "cell_type": "markdown",
   "metadata": {},
   "source": [
    "### Завдання № 6 "
   ]
  },
  {
   "cell_type": "markdown",
   "metadata": {},
   "source": [
    "Ваше завдання – завершити код, щоб отримати результати чотирьох основних арифметичних операцій.\n",
    "\n",
    "Результати мають бути виведені у консолі.\n",
    "\n",
    "Можливо, ви не зможете захистити код від користувача, який хоче ділити на нуль. Пізніше ми взнаємо, як це зробити."
   ]
  },
  {
   "cell_type": "code",
   "execution_count": 4,
   "metadata": {},
   "outputs": [
    {
     "name": "stdout",
     "output_type": "stream",
     "text": [
      "input a float value for variable a here 5.3\n",
      "input a float value for variable b here 2.4\n",
      "output the result of addition here 7.699999999999999\n",
      "output the result of subtraction here 2.9\n",
      "output the result of multiplication here 12.719999999999999\n",
      "output the result of division here 2.2083333333333335\n"
     ]
    }
   ],
   "source": [
    "print(\"input a float value for variable a here\", end=\" \")\n",
    "a=float(input())\n",
    "print(\"input a float value for variable b here\", end=\" \")\n",
    "b=float(input())\n",
    "\n",
    "print(\"output the result of addition here\", a+b)\n",
    "print(\"output the result of subtraction here\", a - b)\n",
    "print(\"output the result of multiplication here\", a*b)\n",
    "print(\"output the result of division here\", a/b)\n",
    "#print(\"\\nThat's all, folks!\")"
   ]
  },
  {
   "cell_type": "markdown",
   "metadata": {},
   "source": [
    "### Завдання № 7 "
   ]
  },
  {
   "cell_type": "markdown",
   "metadata": {},
   "source": [
    "Ваше завдання -- завершити код, щоб оцінити такий вираз:\n",
    "$$\\frac{1}{x + \\frac{1}{x + \\frac{1}{x + \\frac{1}{x + \\frac{1}{x}}}}}$$\n",
    "\n",
    "\n",
    "Результат має бути присвоєний `y`.\n",
    "\n",
    "Ви можете використовувати додаткові змінні для зменшення виразу (але це не обов'язково). Ретельно тестуйте свій код."
   ]
  },
  {
   "cell_type": "code",
   "execution_count": 5,
   "metadata": {},
   "outputs": [
    {
     "name": "stdout",
     "output_type": "stream",
     "text": [
      "Enter value for x: 100\n",
      "y = 0.009999000199950014\n"
     ]
    }
   ],
   "source": [
    "print(\"Enter value for x:\", end=\" \")\n",
    "x = int(input())\n",
    "# put your code here\n",
    "y = (1/(x+(1/(x+(1/(x+1/(x+1/x)))))))\n",
    "print(\"y =\", y)"
   ]
  },
  {
   "cell_type": "markdown",
   "metadata": {},
   "source": [
    "### Завдання № 8"
   ]
  },
  {
   "cell_type": "markdown",
   "metadata": {},
   "source": [
    "Ваше завдання - підготувати простий код, здатний порахувати час закінчення періоду часу, вираженого в кількості хвилин (воно може бути як завгодно великим). Час початку вказується у вигляді пари годин (0..23) та хвилин (0..59). Результат повинен бути надрукований на консолі.\n",
    "\n",
    "Наприклад, якщо подія починається о __12:17__ і триває __59__ хвилин, вона закінчується о __13:16__.\n",
    "\n",
    "Не турбуйтеся про будь-які недоліки у вашому коді –- це нормально, якщо він приймає неприпустимий час -– найважливіше, що код видає дійсні результати для правильних вхідних даних.\n",
    "\n",
    "Ретельно перевірте код. Підказка: використання оператора `%` може бути ключем до успіху."
   ]
  },
  {
   "cell_type": "code",
   "execution_count": 1,
   "metadata": {},
   "outputs": [
    {
     "name": "stdout",
     "output_type": "stream",
     "text": [
      "The end of event(time):  10 : 40\n"
     ]
    }
   ],
   "source": [
    "hour = 23#int(input(\"Starting time (hours): \"))\n",
    "mins = 58#int(input(\"Starting time (minutes): \"))\n",
    "dura = 642#int(input(\"Event duration (minutes): \"))\n",
    "\n",
    "# put your code here\n",
    "\n",
    "min_dura=dura%60\n",
    "min_end=(mins+min_dura)%60\n",
    "\n",
    "hou_dura=dura//60\n",
    "hour_dura0=(mins+dura%60)//60\n",
    "\n",
    "hour_end=(hour+hou_dura+hour_dura0)%24\n",
    "\n",
    "print(\"The end of event(time): \", hour_end, \":\", min_end)"
   ]
  },
  {
   "attachments": {},
   "cell_type": "markdown",
   "metadata": {},
   "source": [
    "### Контрольні запитання\n",
    "\n",
    "1.При виконанні коду \n",
    "\n",
    "`x = int(input(\"Enter a number: \")) #the user enters 2\n",
    "print(x + \"5\")` \n",
    "\n",
    "виникає помилка, так як число до строки додати неможливо.\n",
    "\n",
    "2.Очікуваний вивод коду \n",
    "\n",
    "`x = input (\"Enter a number: \") #the user enters 2\n",
    "print(type(x))`\n",
    "\n",
    "це визначений тип уведених даних\n",
    "\n",
    "`<class 'str'>`"
   ]
  }
 ],
 "metadata": {
  "kernelspec": {
   "display_name": "Python 3 (ipykernel)",
   "language": "python",
   "name": "python3"
  },
  "language_info": {
   "codemirror_mode": {
    "name": "ipython",
    "version": 3
   },
   "file_extension": ".py",
   "mimetype": "text/x-python",
   "name": "python",
   "nbconvert_exporter": "python",
   "pygments_lexer": "ipython3",
   "version": "3.9.13"
  }
 },
 "nbformat": 4,
 "nbformat_minor": 4
}
